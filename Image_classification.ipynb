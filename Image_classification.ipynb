{
  "nbformat": 4,
  "nbformat_minor": 0,
  "metadata": {
    "colab": {
      "provenance": [],
      "mount_file_id": "1_QgFZ6OK_NjhGr9d8mgmhNIcoHCII3r4",
      "authorship_tag": "ABX9TyM2P+ZbWD1Lkt3/MAhkTLff"
    },
    "kernelspec": {
      "name": "python3",
      "display_name": "Python 3"
    },
    "language_info": {
      "name": "python"
    }
  },
  "cells": [
    {
      "cell_type": "code",
      "execution_count": 1,
      "metadata": {
        "colab": {
          "base_uri": "https://localhost:8080/"
        },
        "id": "H7BQmJC9k7_v",
        "outputId": "baf62260-3629-4454-9f7b-67a24d16cf45"
      },
      "outputs": [
        {
          "output_type": "stream",
          "name": "stdout",
          "text": [
            "Downloading data from https://www.cs.toronto.edu/~kriz/cifar-10-python.tar.gz\n",
            "170498071/170498071 [==============================] - 2s 0us/step\n"
          ]
        }
      ],
      "source": [
        "from keras.datasets import cifar10\n",
        "import matplotlib.pyplot as plt\n",
        "\n",
        "(train_X, train_Y), (test_X, test_Y) = cifar10.load_data()"
      ]
    },
    {
      "cell_type": "code",
      "source": [
        "n=3\n",
        "plt.figure(figsize=(20,10))\n",
        "for i in range(n):\n",
        "    plt.subplot(330+1+i)\n",
        "    plt.imshow(train_X[i])\n",
        "    plt.show()"
      ],
      "metadata": {
        "colab": {
          "base_uri": "https://localhost:8080/",
          "height": 601
        },
        "id": "nIN0bIYQlVqn",
        "outputId": "2286da2b-e062-4f93-e37b-c9c3faae1ad3"
      },
      "execution_count": 2,
      "outputs": [
        {
          "output_type": "display_data",
          "data": {
            "text/plain": [
              "<Figure size 2000x1000 with 1 Axes>"
            ],
            "image/png": "[encoded data removed]"
          },
          "metadata": {}
        },
        {
          "output_type": "display_data",
          "data": {
            "text/plain": [
              "<Figure size 640x480 with 1 Axes>"
            ],
            "image/png": "[encoded data removed]"
          },
          "metadata": {}
        },
        {
          "output_type": "display_data",
          "data": {
            "text/plain": [
              "<Figure size 640x480 with 1 Axes>"
            ],
            "image/png": "[encoded data removed]"
          },
          "metadata": {}
        }
      ]
    },
    {
      "cell_type": "code",
      "source": [
        "from keras.models import Sequential\n",
        "from keras.layers import Dense\n",
        "from keras.layers import Dropout\n",
        "from keras.layers import Flatten\n",
        "from tensorflow.keras import layers, models"
      ],
      "metadata": {
        "id": "gy5ovKkFlcCc"
      },
      "execution_count": 4,
      "outputs": []
    },
    {
      "cell_type": "code",
      "source": [
        "from keras.constraints import max_norm\n",
        "from keras.optimizers import SGD\n",
        "from tensorflow.keras.layers import Conv2D, MaxPooling2D\n",
        "from keras.utils import to_categorical"
      ],
      "metadata": {
        "id": "Pv6wYihvlfr0"
      },
      "execution_count": 5,
      "outputs": []
    },
    {
      "cell_type": "code",
      "source": [
        "train_x=train_X.astype('float32')\n",
        "test_X=test_X.astype('float32')\n",
        "\n",
        "train_X=train_X/255.0\n",
        "test_X=test_X/255.0"
      ],
      "metadata": {
        "id": "v_E0mywRliQ7"
      },
      "execution_count": 6,
      "outputs": []
    },
    {
      "cell_type": "code",
      "source": [
        "train_Y_categorical = to_categorical(train_Y)\n",
        "test_Y_categorical = to_categorical(test_Y)\n",
        "num_classes = test_Y_categorical.shape[1]"
      ],
      "metadata": {
        "id": "hT5Iz6Dcljj3"
      },
      "execution_count": 7,
      "outputs": []
    },
    {
      "cell_type": "code",
      "source": [
        "model=Sequential()\n",
        "model.add(Conv2D(32,(3,3),input_shape=(32,32,3),padding='same',activation='relu',kernel_constraint=max_norm(3)))\n",
        "model.add(Dropout(0.2))\n",
        "model.add(Conv2D(32,(3,3),activation='relu',padding='same',kernel_constraint=max_norm(3)))\n",
        "model.add(MaxPooling2D(pool_size=(2,2)))\n",
        "model.add(Flatten())\n",
        "model.add(Dense(512,activation='relu',kernel_constraint=max_norm(3)))\n",
        "model.add(Dropout(0.5))\n",
        "model.add(Dense(num_classes, activation='softmax'))"
      ],
      "metadata": {
        "id": "bX8TEigZlkym"
      },
      "execution_count": 8,
      "outputs": []
    },
    {
      "cell_type": "code",
      "source": [
        "sgd = SGD(learning_rate=0.01, momentum=0.9, weight_decay=0.01/25, nesterov=False)"
      ],
      "metadata": {
        "id": "odO8jMcvlqS1"
      },
      "execution_count": 9,
      "outputs": []
    },
    {
      "cell_type": "code",
      "source": [
        "model.compile(loss='categorical_crossentropy', optimizer=sgd, metrics=['accuracy'])"
      ],
      "metadata": {
        "id": "NQdNAs-hlu2B"
      },
      "execution_count": 10,
      "outputs": []
    },
    {
      "cell_type": "code",
      "source": [
        "model.summary()\n"
      ],
      "metadata": {
        "colab": {
          "base_uri": "https://localhost:8080/"
        },
        "id": "vC11AD1nlwGZ",
        "outputId": "f7066141-3543-4113-c3b1-e4a6547f5c58"
      },
      "execution_count": 11,
      "outputs": [
        {
          "output_type": "stream",
          "name": "stdout",
          "text": [
            "Model: \"sequential\"\n",
            "_________________________________________________________________\n",
            " Layer (type)                Output Shape              Param #   \n",
            "=================================================================\n",
            " conv2d (Conv2D)             (None, 32, 32, 32)        896       \n",
            "                                                                 \n",
            " dropout (Dropout)           (None, 32, 32, 32)        0         \n",
            "                                                                 \n",
            " conv2d_1 (Conv2D)           (None, 32, 32, 32)        9248      \n",
            "                                                                 \n",
            " max_pooling2d (MaxPooling2  (None, 16, 16, 32)        0         \n",
            " D)                                                              \n",
            "                                                                 \n",
            " flatten (Flatten)           (None, 8192)              0         \n",
            "                                                                 \n",
            " dense (Dense)               (None, 512)               4194816   \n",
            "                                                                 \n",
            " dropout_1 (Dropout)         (None, 512)               0         \n",
            "                                                                 \n",
            " dense_1 (Dense)             (None, 10)                5130      \n",
            "                                                                 \n",
            "=================================================================\n",
            "Total params: 4210090 (16.06 MB)\n",
            "Trainable params: 4210090 (16.06 MB)\n",
            "Non-trainable params: 0 (0.00 Byte)\n",
            "_________________________________________________________________\n"
          ]
        }
      ]
    },
    {
      "cell_type": "code",
      "source": [
        "model.fit(train_X, train_Y_categorical, validation_data=(test_X, test_Y_categorical), epochs=10, batch_size=32)\n"
      ],
      "metadata": {
        "colab": {
          "base_uri": "https://localhost:8080/"
        },
        "id": "RZ5PA9Felx-i",
        "outputId": "d3d91a3e-f064-4e49-c4cf-962f2fa89c70"
      },
      "execution_count": 12,
      "outputs": [
        {
          "output_type": "stream",
          "name": "stdout",
          "text": [
            "Epoch 1/10\n",
            "1563/1563 [==============================] - 254s 162ms/step - loss: 1.7701 - accuracy: 0.3568 - val_loss: 1.5416 - val_accuracy: 0.4517\n",
            "Epoch 2/10\n",
            "1563/1563 [==============================] - 265s 170ms/step - loss: 1.4082 - accuracy: 0.4941 - val_loss: 1.2741 - val_accuracy: 0.5505\n",
            "Epoch 3/10\n",
            "1563/1563 [==============================] - 257s 165ms/step - loss: 1.2205 - accuracy: 0.5656 - val_loss: 1.1115 - val_accuracy: 0.6084\n",
            "Epoch 4/10\n",
            "1563/1563 [==============================] - 266s 170ms/step - loss: 1.0786 - accuracy: 0.6170 - val_loss: 1.0882 - val_accuracy: 0.6233\n",
            "Epoch 5/10\n",
            "1563/1563 [==============================] - 257s 164ms/step - loss: 0.9604 - accuracy: 0.6593 - val_loss: 1.0023 - val_accuracy: 0.6495\n",
            "Epoch 6/10\n",
            "1563/1563 [==============================] - 258s 165ms/step - loss: 0.8643 - accuracy: 0.6959 - val_loss: 0.9911 - val_accuracy: 0.6584\n",
            "Epoch 7/10\n",
            "1563/1563 [==============================] - 256s 164ms/step - loss: 0.7796 - accuracy: 0.7255 - val_loss: 0.9659 - val_accuracy: 0.6740\n",
            "Epoch 8/10\n",
            "1563/1563 [==============================] - 258s 165ms/step - loss: 0.6938 - accuracy: 0.7559 - val_loss: 0.9678 - val_accuracy: 0.6758\n",
            "Epoch 9/10\n",
            "1563/1563 [==============================] - 259s 166ms/step - loss: 0.6348 - accuracy: 0.7760 - val_loss: 1.0181 - val_accuracy: 0.6714\n",
            "Epoch 10/10\n",
            "1563/1563 [==============================] - 267s 171ms/step - loss: 0.5736 - accuracy: 0.7994 - val_loss: 1.0392 - val_accuracy: 0.6693\n"
          ]
        },
        {
          "output_type": "execute_result",
          "data": {
            "text/plain": [
              "<keras.src.callbacks.History at 0x7f51832a9ba0>"
            ]
          },
          "metadata": {},
          "execution_count": 12
        }
      ]
    },
    {
      "cell_type": "code",
      "source": [
        "_, acc = model.evaluate(test_X, test_Y_categorical)\n",
        "print(\"Accuracy:\", acc * 100)\n"
      ],
      "metadata": {
        "colab": {
          "base_uri": "https://localhost:8080/"
        },
        "id": "xcWIGgMbl0E-",
        "outputId": "3e2ec22c-040e-4222-8b7c-00c7251796e5"
      },
      "execution_count": 13,
      "outputs": [
        {
          "output_type": "stream",
          "name": "stdout",
          "text": [
            "313/313 [==============================] - 11s 35ms/step - loss: 1.0392 - accuracy: 0.6693\n",
            "Accuracy: 66.93000197410583\n"
          ]
        }
      ]
    },
    {
      "cell_type": "code",
      "source": [
        "model.save(\"model1_cifar_10epoch.h5\")"
      ],
      "metadata": {
        "colab": {
          "base_uri": "https://localhost:8080/"
        },
        "id": "kF2h4bN6vxKy",
        "outputId": "d35c606c-a495-4f9b-cd8d-367c1a65d154"
      },
      "execution_count": 14,
      "outputs": [
        {
          "output_type": "stream",
          "name": "stderr",
          "text": [
            "/usr/local/lib/python3.10/dist-packages/keras/src/engine/training.py:3103: UserWarning: You are saving your model as an HDF5 file via `model.save()`. This file format is considered legacy. We recommend using instead the native Keras format, e.g. `model.save('my_model.keras')`.\n",
            "  saving_api.save_model(\n"
          ]
        }
      ]
    },
    {
      "cell_type": "code",
      "source": [
        "from PIL import Image\n",
        "import numpy as np\n",
        "\n",
        "def predict_image_class(image_path, model):\n",
        "    # Define the class labels\n",
        "    results = {\n",
        "       0: 'aeroplane',\n",
        "       1: 'automobile',\n",
        "       2: 'bird',\n",
        "       3: 'cat',\n",
        "       4: 'deer',\n",
        "       5: 'dog',\n",
        "       6: 'frog',\n",
        "       7: 'horse',\n",
        "       8: 'ship',\n",
        "       9: 'truck'\n",
        "    }\n",
        "\n",
        "    # Load and preprocess the image\n",
        "    im = Image.open(image_path)\n",
        "    im = im.resize((32, 32))\n",
        "    im = np.expand_dims(np.array(im), axis=0)\n",
        "\n",
        "    # Make predictions\n",
        "    pred_probabilities = model.predict(im)\n",
        "    pred_class = np.argmax(pred_probabilities)\n",
        "\n",
        "    # Return the predicted class label and corresponding result\n",
        "    return pred_class, results[pred_class]\n"
      ],
      "metadata": {
        "id": "ruthQ7M6v6sT"
      },
      "execution_count": 20,
      "outputs": []
    },
    {
      "cell_type": "code",
      "source": [
        "pred_class, result = predict_image_class(\"/content/test1.jpg\", model)\n",
        "print(\"Predicted class:\", pred_class)\n",
        "print(\"Result:\", result)"
      ],
      "metadata": {
        "colab": {
          "base_uri": "https://localhost:8080/"
        },
        "id": "fDT9cvvdv8bk",
        "outputId": "43ad8623-05f9-4c96-8bc1-a01306a53378"
      },
      "execution_count": 22,
      "outputs": [
        {
          "output_type": "stream",
          "name": "stdout",
          "text": [
            "1/1 [==============================] - 0s 79ms/step\n",
            "Predicted class: 4\n",
            "Result: deer\n"
          ]
        }
      ]
    },
    {
      "cell_type": "code",
      "source": [],
      "metadata": {
        "id": "NyWwu0OQwBo2"
      },
      "execution_count": null,
      "outputs": []
    }
  ]
}